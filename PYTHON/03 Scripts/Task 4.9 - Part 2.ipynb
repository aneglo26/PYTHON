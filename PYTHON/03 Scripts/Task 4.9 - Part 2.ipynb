{
 "cells": [
  {
   "cell_type": "markdown",
   "id": "efa6d3d0",
   "metadata": {},
   "source": [
    "# Task 4.9 - Part 2"
   ]
  },
  {
   "cell_type": "markdown",
   "id": "7bfa8109",
   "metadata": {},
   "source": [
    "### Importing Data and Checking"
   ]
  },
  {
   "cell_type": "code",
   "execution_count": 1,
   "id": "739d1b2d",
   "metadata": {},
   "outputs": [],
   "source": [
    "import pandas as pd\n",
    "import numpy as np\n",
    "import os\n",
    "import matplotlib.pyplot as plt\n",
    "import seaborn as sns\n",
    "import scipy"
   ]
  },
  {
   "cell_type": "code",
   "execution_count": 2,
   "id": "b5a17e6b",
   "metadata": {},
   "outputs": [],
   "source": [
    "path = r'D:\\Downloads\\Data Analytics\\content\\Task 4'"
   ]
  },
  {
   "cell_type": "code",
   "execution_count": 3,
   "id": "f5b442eb",
   "metadata": {},
   "outputs": [],
   "source": [
    "combined_df_4_9_1 = pd.read_pickle(os.path.join(path, 'Data', 'combined_df_4_9_1.pkl'))"
   ]
  },
  {
   "cell_type": "code",
   "execution_count": 4,
   "id": "bb901c3e",
   "metadata": {},
   "outputs": [],
   "source": [
    "combined_df_4_9_1 = combined_df_4_9_1.drop(columns =['_merge'])"
   ]
  },
  {
   "cell_type": "code",
   "execution_count": 5,
   "id": "c1ff0817",
   "metadata": {},
   "outputs": [],
   "source": [
    "# It is important to be able to see all columns\n",
    "pd.options.display.max_columns = None"
   ]
  },
  {
   "cell_type": "code",
   "execution_count": 6,
   "id": "06f03104",
   "metadata": {},
   "outputs": [
    {
     "data": {
      "text/html": [
       "<div>\n",
       "<style scoped>\n",
       "    .dataframe tbody tr th:only-of-type {\n",
       "        vertical-align: middle;\n",
       "    }\n",
       "\n",
       "    .dataframe tbody tr th {\n",
       "        vertical-align: top;\n",
       "    }\n",
       "\n",
       "    .dataframe thead th {\n",
       "        text-align: right;\n",
       "    }\n",
       "</style>\n",
       "<table border=\"1\" class=\"dataframe\">\n",
       "  <thead>\n",
       "    <tr style=\"text-align: right;\">\n",
       "      <th></th>\n",
       "      <th>order_id</th>\n",
       "      <th>user_id</th>\n",
       "      <th>order_number</th>\n",
       "      <th>orders_day_of_week</th>\n",
       "      <th>time_of_order</th>\n",
       "      <th>days_without_orders</th>\n",
       "      <th>product_id</th>\n",
       "      <th>add_to_cart_order</th>\n",
       "      <th>reordered</th>\n",
       "      <th>product_name</th>\n",
       "      <th>aisle_id</th>\n",
       "      <th>department_id</th>\n",
       "      <th>prices</th>\n",
       "      <th>price_range_loc</th>\n",
       "      <th>busiest_day</th>\n",
       "      <th>busiest_days</th>\n",
       "      <th>busiest_period_of_day</th>\n",
       "      <th>max_order</th>\n",
       "      <th>loyalty_flag</th>\n",
       "      <th>spend_mean</th>\n",
       "      <th>spender_type</th>\n",
       "      <th>avg_days_last_order</th>\n",
       "      <th>customer_frequency</th>\n",
       "      <th>customer_first_name</th>\n",
       "      <th>customer_surname</th>\n",
       "      <th>customer_gender</th>\n",
       "      <th>customer_state</th>\n",
       "      <th>customer_age</th>\n",
       "      <th>date_joined</th>\n",
       "      <th>customer_dependents</th>\n",
       "      <th>customer_fam_status</th>\n",
       "      <th>customer_income</th>\n",
       "    </tr>\n",
       "  </thead>\n",
       "  <tbody>\n",
       "    <tr>\n",
       "      <th>0</th>\n",
       "      <td>2539329</td>\n",
       "      <td>1</td>\n",
       "      <td>1</td>\n",
       "      <td>2</td>\n",
       "      <td>8</td>\n",
       "      <td>0.0</td>\n",
       "      <td>196</td>\n",
       "      <td>1</td>\n",
       "      <td>0</td>\n",
       "      <td>Soda</td>\n",
       "      <td>77</td>\n",
       "      <td>7</td>\n",
       "      <td>9.0</td>\n",
       "      <td>Mid-range product</td>\n",
       "      <td>Regularly busy</td>\n",
       "      <td>Regularly busy</td>\n",
       "      <td>Average orders</td>\n",
       "      <td>10</td>\n",
       "      <td>New customer</td>\n",
       "      <td>6.367797</td>\n",
       "      <td>Low spender</td>\n",
       "      <td>20.0</td>\n",
       "      <td>Regular customer</td>\n",
       "      <td>Linda</td>\n",
       "      <td>Nguyen</td>\n",
       "      <td>Female</td>\n",
       "      <td>Alabama</td>\n",
       "      <td>31</td>\n",
       "      <td>2/17/2019</td>\n",
       "      <td>3</td>\n",
       "      <td>married</td>\n",
       "      <td>40423</td>\n",
       "    </tr>\n",
       "    <tr>\n",
       "      <th>1</th>\n",
       "      <td>2398795</td>\n",
       "      <td>1</td>\n",
       "      <td>2</td>\n",
       "      <td>3</td>\n",
       "      <td>7</td>\n",
       "      <td>15.0</td>\n",
       "      <td>196</td>\n",
       "      <td>1</td>\n",
       "      <td>1</td>\n",
       "      <td>Soda</td>\n",
       "      <td>77</td>\n",
       "      <td>7</td>\n",
       "      <td>9.0</td>\n",
       "      <td>Mid-range product</td>\n",
       "      <td>Regularly busy</td>\n",
       "      <td>Slowest days</td>\n",
       "      <td>Average orders</td>\n",
       "      <td>10</td>\n",
       "      <td>New customer</td>\n",
       "      <td>6.367797</td>\n",
       "      <td>Low spender</td>\n",
       "      <td>20.0</td>\n",
       "      <td>Regular customer</td>\n",
       "      <td>Linda</td>\n",
       "      <td>Nguyen</td>\n",
       "      <td>Female</td>\n",
       "      <td>Alabama</td>\n",
       "      <td>31</td>\n",
       "      <td>2/17/2019</td>\n",
       "      <td>3</td>\n",
       "      <td>married</td>\n",
       "      <td>40423</td>\n",
       "    </tr>\n",
       "    <tr>\n",
       "      <th>2</th>\n",
       "      <td>473747</td>\n",
       "      <td>1</td>\n",
       "      <td>3</td>\n",
       "      <td>3</td>\n",
       "      <td>12</td>\n",
       "      <td>21.0</td>\n",
       "      <td>196</td>\n",
       "      <td>1</td>\n",
       "      <td>1</td>\n",
       "      <td>Soda</td>\n",
       "      <td>77</td>\n",
       "      <td>7</td>\n",
       "      <td>9.0</td>\n",
       "      <td>Mid-range product</td>\n",
       "      <td>Regularly busy</td>\n",
       "      <td>Slowest days</td>\n",
       "      <td>Most orders</td>\n",
       "      <td>10</td>\n",
       "      <td>New customer</td>\n",
       "      <td>6.367797</td>\n",
       "      <td>Low spender</td>\n",
       "      <td>20.0</td>\n",
       "      <td>Regular customer</td>\n",
       "      <td>Linda</td>\n",
       "      <td>Nguyen</td>\n",
       "      <td>Female</td>\n",
       "      <td>Alabama</td>\n",
       "      <td>31</td>\n",
       "      <td>2/17/2019</td>\n",
       "      <td>3</td>\n",
       "      <td>married</td>\n",
       "      <td>40423</td>\n",
       "    </tr>\n",
       "    <tr>\n",
       "      <th>3</th>\n",
       "      <td>2254736</td>\n",
       "      <td>1</td>\n",
       "      <td>4</td>\n",
       "      <td>4</td>\n",
       "      <td>7</td>\n",
       "      <td>29.0</td>\n",
       "      <td>196</td>\n",
       "      <td>1</td>\n",
       "      <td>1</td>\n",
       "      <td>Soda</td>\n",
       "      <td>77</td>\n",
       "      <td>7</td>\n",
       "      <td>9.0</td>\n",
       "      <td>Mid-range product</td>\n",
       "      <td>Least busy</td>\n",
       "      <td>Slowest days</td>\n",
       "      <td>Average orders</td>\n",
       "      <td>10</td>\n",
       "      <td>New customer</td>\n",
       "      <td>6.367797</td>\n",
       "      <td>Low spender</td>\n",
       "      <td>20.0</td>\n",
       "      <td>Regular customer</td>\n",
       "      <td>Linda</td>\n",
       "      <td>Nguyen</td>\n",
       "      <td>Female</td>\n",
       "      <td>Alabama</td>\n",
       "      <td>31</td>\n",
       "      <td>2/17/2019</td>\n",
       "      <td>3</td>\n",
       "      <td>married</td>\n",
       "      <td>40423</td>\n",
       "    </tr>\n",
       "    <tr>\n",
       "      <th>4</th>\n",
       "      <td>431534</td>\n",
       "      <td>1</td>\n",
       "      <td>5</td>\n",
       "      <td>4</td>\n",
       "      <td>15</td>\n",
       "      <td>28.0</td>\n",
       "      <td>196</td>\n",
       "      <td>1</td>\n",
       "      <td>1</td>\n",
       "      <td>Soda</td>\n",
       "      <td>77</td>\n",
       "      <td>7</td>\n",
       "      <td>9.0</td>\n",
       "      <td>Mid-range product</td>\n",
       "      <td>Least busy</td>\n",
       "      <td>Slowest days</td>\n",
       "      <td>Most orders</td>\n",
       "      <td>10</td>\n",
       "      <td>New customer</td>\n",
       "      <td>6.367797</td>\n",
       "      <td>Low spender</td>\n",
       "      <td>20.0</td>\n",
       "      <td>Regular customer</td>\n",
       "      <td>Linda</td>\n",
       "      <td>Nguyen</td>\n",
       "      <td>Female</td>\n",
       "      <td>Alabama</td>\n",
       "      <td>31</td>\n",
       "      <td>2/17/2019</td>\n",
       "      <td>3</td>\n",
       "      <td>married</td>\n",
       "      <td>40423</td>\n",
       "    </tr>\n",
       "    <tr>\n",
       "      <th>...</th>\n",
       "      <td>...</td>\n",
       "      <td>...</td>\n",
       "      <td>...</td>\n",
       "      <td>...</td>\n",
       "      <td>...</td>\n",
       "      <td>...</td>\n",
       "      <td>...</td>\n",
       "      <td>...</td>\n",
       "      <td>...</td>\n",
       "      <td>...</td>\n",
       "      <td>...</td>\n",
       "      <td>...</td>\n",
       "      <td>...</td>\n",
       "      <td>...</td>\n",
       "      <td>...</td>\n",
       "      <td>...</td>\n",
       "      <td>...</td>\n",
       "      <td>...</td>\n",
       "      <td>...</td>\n",
       "      <td>...</td>\n",
       "      <td>...</td>\n",
       "      <td>...</td>\n",
       "      <td>...</td>\n",
       "      <td>...</td>\n",
       "      <td>...</td>\n",
       "      <td>...</td>\n",
       "      <td>...</td>\n",
       "      <td>...</td>\n",
       "      <td>...</td>\n",
       "      <td>...</td>\n",
       "      <td>...</td>\n",
       "      <td>...</td>\n",
       "    </tr>\n",
       "    <tr>\n",
       "      <th>30629736</th>\n",
       "      <td>156685</td>\n",
       "      <td>106143</td>\n",
       "      <td>26</td>\n",
       "      <td>4</td>\n",
       "      <td>23</td>\n",
       "      <td>5.0</td>\n",
       "      <td>19675</td>\n",
       "      <td>1</td>\n",
       "      <td>1</td>\n",
       "      <td>Organic Raspberry Black Tea</td>\n",
       "      <td>94</td>\n",
       "      <td>7</td>\n",
       "      <td>10.7</td>\n",
       "      <td>Mid-range product</td>\n",
       "      <td>Least busy</td>\n",
       "      <td>Slowest days</td>\n",
       "      <td>Fewest orders</td>\n",
       "      <td>26</td>\n",
       "      <td>Regular customer</td>\n",
       "      <td>10.700000</td>\n",
       "      <td>High spender</td>\n",
       "      <td>6.5</td>\n",
       "      <td>Frequent customer</td>\n",
       "      <td>Gerald</td>\n",
       "      <td>Yates</td>\n",
       "      <td>Male</td>\n",
       "      <td>Hawaii</td>\n",
       "      <td>25</td>\n",
       "      <td>5/26/2017</td>\n",
       "      <td>0</td>\n",
       "      <td>single</td>\n",
       "      <td>53755</td>\n",
       "    </tr>\n",
       "    <tr>\n",
       "      <th>30629737</th>\n",
       "      <td>484769</td>\n",
       "      <td>66343</td>\n",
       "      <td>1</td>\n",
       "      <td>6</td>\n",
       "      <td>11</td>\n",
       "      <td>0.0</td>\n",
       "      <td>47210</td>\n",
       "      <td>1</td>\n",
       "      <td>0</td>\n",
       "      <td>Fresh Farmed Tilapia Fillet</td>\n",
       "      <td>15</td>\n",
       "      <td>12</td>\n",
       "      <td>8.1</td>\n",
       "      <td>Mid-range product</td>\n",
       "      <td>Regularly busy</td>\n",
       "      <td>Regularly busy</td>\n",
       "      <td>Most orders</td>\n",
       "      <td>4</td>\n",
       "      <td>New customer</td>\n",
       "      <td>8.100000</td>\n",
       "      <td>Low spender</td>\n",
       "      <td>24.5</td>\n",
       "      <td>Non-frequent customer</td>\n",
       "      <td>Jacqueline</td>\n",
       "      <td>Arroyo</td>\n",
       "      <td>Female</td>\n",
       "      <td>Tennessee</td>\n",
       "      <td>22</td>\n",
       "      <td>9/12/2017</td>\n",
       "      <td>3</td>\n",
       "      <td>married</td>\n",
       "      <td>46151</td>\n",
       "    </tr>\n",
       "    <tr>\n",
       "      <th>30629738</th>\n",
       "      <td>1561557</td>\n",
       "      <td>66343</td>\n",
       "      <td>2</td>\n",
       "      <td>1</td>\n",
       "      <td>11</td>\n",
       "      <td>30.0</td>\n",
       "      <td>47210</td>\n",
       "      <td>1</td>\n",
       "      <td>1</td>\n",
       "      <td>Fresh Farmed Tilapia Fillet</td>\n",
       "      <td>15</td>\n",
       "      <td>12</td>\n",
       "      <td>8.1</td>\n",
       "      <td>Mid-range product</td>\n",
       "      <td>Regularly busy</td>\n",
       "      <td>Busiest days</td>\n",
       "      <td>Most orders</td>\n",
       "      <td>4</td>\n",
       "      <td>New customer</td>\n",
       "      <td>8.100000</td>\n",
       "      <td>Low spender</td>\n",
       "      <td>24.5</td>\n",
       "      <td>Non-frequent customer</td>\n",
       "      <td>Jacqueline</td>\n",
       "      <td>Arroyo</td>\n",
       "      <td>Female</td>\n",
       "      <td>Tennessee</td>\n",
       "      <td>22</td>\n",
       "      <td>9/12/2017</td>\n",
       "      <td>3</td>\n",
       "      <td>married</td>\n",
       "      <td>46151</td>\n",
       "    </tr>\n",
       "    <tr>\n",
       "      <th>30629739</th>\n",
       "      <td>276317</td>\n",
       "      <td>66343</td>\n",
       "      <td>3</td>\n",
       "      <td>6</td>\n",
       "      <td>15</td>\n",
       "      <td>19.0</td>\n",
       "      <td>47210</td>\n",
       "      <td>1</td>\n",
       "      <td>1</td>\n",
       "      <td>Fresh Farmed Tilapia Fillet</td>\n",
       "      <td>15</td>\n",
       "      <td>12</td>\n",
       "      <td>8.1</td>\n",
       "      <td>Mid-range product</td>\n",
       "      <td>Regularly busy</td>\n",
       "      <td>Regularly busy</td>\n",
       "      <td>Most orders</td>\n",
       "      <td>4</td>\n",
       "      <td>New customer</td>\n",
       "      <td>8.100000</td>\n",
       "      <td>Low spender</td>\n",
       "      <td>24.5</td>\n",
       "      <td>Non-frequent customer</td>\n",
       "      <td>Jacqueline</td>\n",
       "      <td>Arroyo</td>\n",
       "      <td>Female</td>\n",
       "      <td>Tennessee</td>\n",
       "      <td>22</td>\n",
       "      <td>9/12/2017</td>\n",
       "      <td>3</td>\n",
       "      <td>married</td>\n",
       "      <td>46151</td>\n",
       "    </tr>\n",
       "    <tr>\n",
       "      <th>30629740</th>\n",
       "      <td>2922475</td>\n",
       "      <td>66343</td>\n",
       "      <td>4</td>\n",
       "      <td>1</td>\n",
       "      <td>12</td>\n",
       "      <td>30.0</td>\n",
       "      <td>47210</td>\n",
       "      <td>1</td>\n",
       "      <td>1</td>\n",
       "      <td>Fresh Farmed Tilapia Fillet</td>\n",
       "      <td>15</td>\n",
       "      <td>12</td>\n",
       "      <td>8.1</td>\n",
       "      <td>Mid-range product</td>\n",
       "      <td>Regularly busy</td>\n",
       "      <td>Busiest days</td>\n",
       "      <td>Most orders</td>\n",
       "      <td>4</td>\n",
       "      <td>New customer</td>\n",
       "      <td>8.100000</td>\n",
       "      <td>Low spender</td>\n",
       "      <td>24.5</td>\n",
       "      <td>Non-frequent customer</td>\n",
       "      <td>Jacqueline</td>\n",
       "      <td>Arroyo</td>\n",
       "      <td>Female</td>\n",
       "      <td>Tennessee</td>\n",
       "      <td>22</td>\n",
       "      <td>9/12/2017</td>\n",
       "      <td>3</td>\n",
       "      <td>married</td>\n",
       "      <td>46151</td>\n",
       "    </tr>\n",
       "  </tbody>\n",
       "</table>\n",
       "<p>30629741 rows × 32 columns</p>\n",
       "</div>"
      ],
      "text/plain": [
       "          order_id user_id  order_number  orders_day_of_week  time_of_order  \\\n",
       "0          2539329       1             1                   2              8   \n",
       "1          2398795       1             2                   3              7   \n",
       "2           473747       1             3                   3             12   \n",
       "3          2254736       1             4                   4              7   \n",
       "4           431534       1             5                   4             15   \n",
       "...            ...     ...           ...                 ...            ...   \n",
       "30629736    156685  106143            26                   4             23   \n",
       "30629737    484769   66343             1                   6             11   \n",
       "30629738   1561557   66343             2                   1             11   \n",
       "30629739    276317   66343             3                   6             15   \n",
       "30629740   2922475   66343             4                   1             12   \n",
       "\n",
       "          days_without_orders  product_id  add_to_cart_order  reordered  \\\n",
       "0                         0.0         196                  1          0   \n",
       "1                        15.0         196                  1          1   \n",
       "2                        21.0         196                  1          1   \n",
       "3                        29.0         196                  1          1   \n",
       "4                        28.0         196                  1          1   \n",
       "...                       ...         ...                ...        ...   \n",
       "30629736                  5.0       19675                  1          1   \n",
       "30629737                  0.0       47210                  1          0   \n",
       "30629738                 30.0       47210                  1          1   \n",
       "30629739                 19.0       47210                  1          1   \n",
       "30629740                 30.0       47210                  1          1   \n",
       "\n",
       "                         product_name  aisle_id  department_id  prices  \\\n",
       "0                                Soda        77              7     9.0   \n",
       "1                                Soda        77              7     9.0   \n",
       "2                                Soda        77              7     9.0   \n",
       "3                                Soda        77              7     9.0   \n",
       "4                                Soda        77              7     9.0   \n",
       "...                               ...       ...            ...     ...   \n",
       "30629736  Organic Raspberry Black Tea        94              7    10.7   \n",
       "30629737  Fresh Farmed Tilapia Fillet        15             12     8.1   \n",
       "30629738  Fresh Farmed Tilapia Fillet        15             12     8.1   \n",
       "30629739  Fresh Farmed Tilapia Fillet        15             12     8.1   \n",
       "30629740  Fresh Farmed Tilapia Fillet        15             12     8.1   \n",
       "\n",
       "            price_range_loc     busiest_day    busiest_days  \\\n",
       "0         Mid-range product  Regularly busy  Regularly busy   \n",
       "1         Mid-range product  Regularly busy    Slowest days   \n",
       "2         Mid-range product  Regularly busy    Slowest days   \n",
       "3         Mid-range product      Least busy    Slowest days   \n",
       "4         Mid-range product      Least busy    Slowest days   \n",
       "...                     ...             ...             ...   \n",
       "30629736  Mid-range product      Least busy    Slowest days   \n",
       "30629737  Mid-range product  Regularly busy  Regularly busy   \n",
       "30629738  Mid-range product  Regularly busy    Busiest days   \n",
       "30629739  Mid-range product  Regularly busy  Regularly busy   \n",
       "30629740  Mid-range product  Regularly busy    Busiest days   \n",
       "\n",
       "         busiest_period_of_day  max_order      loyalty_flag  spend_mean  \\\n",
       "0               Average orders         10      New customer    6.367797   \n",
       "1               Average orders         10      New customer    6.367797   \n",
       "2                  Most orders         10      New customer    6.367797   \n",
       "3               Average orders         10      New customer    6.367797   \n",
       "4                  Most orders         10      New customer    6.367797   \n",
       "...                        ...        ...               ...         ...   \n",
       "30629736         Fewest orders         26  Regular customer   10.700000   \n",
       "30629737           Most orders          4      New customer    8.100000   \n",
       "30629738           Most orders          4      New customer    8.100000   \n",
       "30629739           Most orders          4      New customer    8.100000   \n",
       "30629740           Most orders          4      New customer    8.100000   \n",
       "\n",
       "          spender_type  avg_days_last_order     customer_frequency  \\\n",
       "0          Low spender                 20.0       Regular customer   \n",
       "1          Low spender                 20.0       Regular customer   \n",
       "2          Low spender                 20.0       Regular customer   \n",
       "3          Low spender                 20.0       Regular customer   \n",
       "4          Low spender                 20.0       Regular customer   \n",
       "...                ...                  ...                    ...   \n",
       "30629736  High spender                  6.5      Frequent customer   \n",
       "30629737   Low spender                 24.5  Non-frequent customer   \n",
       "30629738   Low spender                 24.5  Non-frequent customer   \n",
       "30629739   Low spender                 24.5  Non-frequent customer   \n",
       "30629740   Low spender                 24.5  Non-frequent customer   \n",
       "\n",
       "         customer_first_name customer_surname customer_gender customer_state  \\\n",
       "0                      Linda           Nguyen          Female        Alabama   \n",
       "1                      Linda           Nguyen          Female        Alabama   \n",
       "2                      Linda           Nguyen          Female        Alabama   \n",
       "3                      Linda           Nguyen          Female        Alabama   \n",
       "4                      Linda           Nguyen          Female        Alabama   \n",
       "...                      ...              ...             ...            ...   \n",
       "30629736              Gerald            Yates            Male         Hawaii   \n",
       "30629737          Jacqueline           Arroyo          Female      Tennessee   \n",
       "30629738          Jacqueline           Arroyo          Female      Tennessee   \n",
       "30629739          Jacqueline           Arroyo          Female      Tennessee   \n",
       "30629740          Jacqueline           Arroyo          Female      Tennessee   \n",
       "\n",
       "          customer_age date_joined  customer_dependents customer_fam_status  \\\n",
       "0                   31   2/17/2019                    3             married   \n",
       "1                   31   2/17/2019                    3             married   \n",
       "2                   31   2/17/2019                    3             married   \n",
       "3                   31   2/17/2019                    3             married   \n",
       "4                   31   2/17/2019                    3             married   \n",
       "...                ...         ...                  ...                 ...   \n",
       "30629736            25   5/26/2017                    0              single   \n",
       "30629737            22   9/12/2017                    3             married   \n",
       "30629738            22   9/12/2017                    3             married   \n",
       "30629739            22   9/12/2017                    3             married   \n",
       "30629740            22   9/12/2017                    3             married   \n",
       "\n",
       "          customer_income  \n",
       "0                   40423  \n",
       "1                   40423  \n",
       "2                   40423  \n",
       "3                   40423  \n",
       "4                   40423  \n",
       "...                   ...  \n",
       "30629736            53755  \n",
       "30629737            46151  \n",
       "30629738            46151  \n",
       "30629739            46151  \n",
       "30629740            46151  \n",
       "\n",
       "[30629741 rows x 32 columns]"
      ]
     },
     "execution_count": 6,
     "metadata": {},
     "output_type": "execute_result"
    }
   ],
   "source": [
    "combined_df_4_9_1"
   ]
  },
  {
   "cell_type": "markdown",
   "id": "df4892a4",
   "metadata": {},
   "source": [
    "## Task 4.9.3"
   ]
  },
  {
   "cell_type": "code",
   "execution_count": 15,
   "id": "70829009",
   "metadata": {},
   "outputs": [
    {
     "data": {
      "text/plain": [
       "<AxesSubplot:ylabel='Frequency'>"
      ]
     },
     "execution_count": 15,
     "metadata": {},
     "output_type": "execute_result"
    },
    {
     "data": {
      "image/png": "[encoded data removed]",
      "text/plain": [
       "<Figure size 432x288 with 1 Axes>"
      ]
     },
     "metadata": {
      "needs_background": "light"
     },
     "output_type": "display_data"
    }
   ],
   "source": [
    "# I have used 24 bins as it will be more appropriate for the 24 hours of a day\n",
    "combined_df_4_9_1['time_of_order'].plot.hist(bins = 24)"
   ]
  },
  {
   "cell_type": "markdown",
   "id": "74b00928",
   "metadata": {},
   "source": [
    " As it is possible to se, after **7am** we start to see an increase in the number of sales, peaking at about **11am**, and only starting to slow down after **4pm**. Meaning that most of the sales happen during the day between **7 in the morning** until **16 in the afternoon**."
   ]
  },
  {
   "cell_type": "markdown",
   "id": "c04dd208",
   "metadata": {},
   "source": [
    "## Task 4.9.4"
   ]
  },
  {
   "cell_type": "code",
   "execution_count": 16,
   "id": "7f6cd963",
   "metadata": {},
   "outputs": [
    {
     "data": {
      "text/plain": [
       "<AxesSubplot:>"
      ]
     },
     "execution_count": 16,
     "metadata": {},
     "output_type": "execute_result"
    },
    {
     "data": {
      "image/png": "[encoded data removed]",
      "text/plain": [
       "<Figure size 432x288 with 1 Axes>"
      ]
     },
     "metadata": {
      "needs_background": "light"
     },
     "output_type": "display_data"
    }
   ],
   "source": [
    "combined_df_4_9_1['loyalty_flag'].value_counts().plot.bar()"
   ]
  },
  {
   "cell_type": "markdown",
   "id": "c4d24bcb",
   "metadata": {},
   "source": [
    "## Task 4.9.5"
   ]
  },
  {
   "cell_type": "code",
   "execution_count": 17,
   "id": "1239ed30",
   "metadata": {},
   "outputs": [],
   "source": [
    "df_line = combined_df_4_9_1[['time_of_order','prices']]"
   ]
  },
  {
   "cell_type": "code",
   "execution_count": 19,
   "id": "cb274ba6",
   "metadata": {},
   "outputs": [
    {
     "data": {
      "image/png": "[encoded data removed]",
      "text/plain": [
       "<Figure size 432x288 with 1 Axes>"
      ]
     },
     "metadata": {
      "needs_background": "light"
     },
     "output_type": "display_data"
    }
   ],
   "source": [
    "line_plot = sns.lineplot(data = df_line, x = 'time_of_order',y = 'prices')"
   ]
  },
  {
   "cell_type": "markdown",
   "id": "62dda042",
   "metadata": {},
   "source": [
    "Curiously, as an oposite of the histogram showing the time where most sales happen, the average prices are acutually lower, meaning that individual purchases with higher value happen off-peak times, as they do not seem to be done by regular clients."
   ]
  },
  {
   "cell_type": "markdown",
   "id": "d4044113",
   "metadata": {},
   "source": [
    "## Task 4.9.6"
   ]
  },
  {
   "cell_type": "code",
   "execution_count": 22,
   "id": "bcf1135b",
   "metadata": {},
   "outputs": [],
   "source": [
    "df_line2 = combined_df_4_9_1[['customer_age','customer_dependents']]"
   ]
  },
  {
   "cell_type": "code",
   "execution_count": 25,
   "id": "08fbbf0d",
   "metadata": {},
   "outputs": [
    {
     "data": {
      "image/png": "[encoded data removed]",
      "text/plain": [
       "<Figure size 432x288 with 1 Axes>"
      ]
     },
     "metadata": {
      "needs_background": "light"
     },
     "output_type": "display_data"
    }
   ],
   "source": [
    "line_plot2 = sns.lineplot(data = df_line2, x = 'customer_age',y = 'customer_dependents')"
   ]
  },
  {
   "cell_type": "markdown",
   "id": "568a86a3",
   "metadata": {},
   "source": [
    "We can notice that the number of dependents is higher for clients above 60, but beneath 70, also that there is slightly decrease in the number of dependents from customers of 20 years old towards 60."
   ]
  },
  {
   "cell_type": "markdown",
   "id": "9be7a1c1",
   "metadata": {},
   "source": [
    "## Task 4.9.7"
   ]
  },
  {
   "cell_type": "code",
   "execution_count": 26,
   "id": "a728ec10",
   "metadata": {},
   "outputs": [
    {
     "data": {
      "image/png": "[encoded data removed]",
      "text/plain": [
       "<Figure size 432x288 with 1 Axes>"
      ]
     },
     "metadata": {
      "needs_background": "light"
     },
     "output_type": "display_data"
    }
   ],
   "source": [
    "scat_497 = sns.scatterplot(x = 'customer_age', y = 'customer_income',data = combined_df_4_9_1)"
   ]
  },
  {
   "cell_type": "markdown",
   "id": "77c2cf02",
   "metadata": {},
   "source": [
    "This scatterplot shows one thing that is not so surprising:\n",
    "### 1st \n",
    "That most customer up to 40 years old don't earn more than 200,000 per year, and also that none of them earn more than 400,000.\n",
    "\n",
    "### 2nd\n",
    "That only after the age group of 40 years old and above, there are clients that earn more than 400,000. \n",
    "\n",
    "### 3rd\n",
    "We can also notice that the vast majority of clients earn less than 200,000 per year, does not matter the age group. "
   ]
  },
  {
   "cell_type": "markdown",
   "id": "a0d7b237",
   "metadata": {},
   "source": [
    "## Task 4.9.8"
   ]
  },
  {
   "cell_type": "code",
   "execution_count": 27,
   "id": "a6429195",
   "metadata": {},
   "outputs": [],
   "source": [
    "line_plot.figure.savefig(os.path.join(path, '04 Analysis','Visualizations', 'line_plot.png'))"
   ]
  },
  {
   "cell_type": "code",
   "execution_count": 28,
   "id": "29d37c92",
   "metadata": {},
   "outputs": [],
   "source": [
    "line_plot2.figure.savefig(os.path.join(path, '04 Analysis','Visualizations', 'line_plot2.png'))"
   ]
  },
  {
   "cell_type": "code",
   "execution_count": 29,
   "id": "a420be66",
   "metadata": {},
   "outputs": [],
   "source": [
    "scat_497.figure.savefig(os.path.join(path, '04 Analysis','Visualizations', 'scat_497.png'))"
   ]
  },
  {
   "cell_type": "code",
   "execution_count": null,
   "id": "4cb94632",
   "metadata": {},
   "outputs": [],
   "source": []
  }
 ],
 "metadata": {
  "kernelspec": {
   "display_name": "Python 3 (ipykernel)",
   "language": "python",
   "name": "python3"
  },
  "language_info": {
   "codemirror_mode": {
    "name": "ipython",
    "version": 3
   },
   "file_extension": ".py",
   "mimetype": "text/x-python",
   "name": "python",
   "nbconvert_exporter": "python",
   "pygments_lexer": "ipython3",
   "version": "3.9.12"
  }
 },
 "nbformat": 4,
 "nbformat_minor": 5
}
